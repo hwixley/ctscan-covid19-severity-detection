{
 "cells": [
  {
   "cell_type": "code",
   "execution_count": 1,
   "id": "1b867aaf",
   "metadata": {},
   "outputs": [],
   "source": [
    "import os\n",
    "import numpy as np\n",
    "import matplotlib.pyplot as plt\n",
    "import SimpleITK as sitk\n",
    "from tqdm import tqdm\n",
    "import csv"
   ]
  },
  {
   "cell_type": "markdown",
   "id": "e03ee53d",
   "metadata": {},
   "source": [
    "## Save numpy file"
   ]
  },
  {
   "cell_type": "code",
   "execution_count": 47,
   "id": "e72d01ac",
   "metadata": {},
   "outputs": [],
   "source": [
    "def save_npy(data, fname):\n",
    "    with open(os.getcwd() + f\"/../data/{fname}.npy\", 'wb') as f:\n",
    "        np.save(f, data)"
   ]
  },
  {
   "cell_type": "markdown",
   "id": "ac38e68a",
   "metadata": {},
   "source": [
    "## Data Loading"
   ]
  },
  {
   "cell_type": "code",
   "execution_count": 3,
   "id": "35dc614d",
   "metadata": {},
   "outputs": [],
   "source": [
    "DD = \"/home/hwixley/Data/stoic2021/data/mha/\""
   ]
  },
  {
   "cell_type": "code",
   "execution_count": 4,
   "id": "a8a8d028",
   "metadata": {},
   "outputs": [
    {
     "name": "stdout",
     "output_type": "stream",
     "text": [
      "2000\n"
     ]
    }
   ],
   "source": [
    "files = os.listdir(DD)\n",
    "num_files = len(files)\n",
    "print(num_files)"
   ]
  },
  {
   "cell_type": "markdown",
   "id": "a3b42dbb",
   "metadata": {},
   "source": [
    "# Parse Labels"
   ]
  },
  {
   "cell_type": "code",
   "execution_count": 11,
   "id": "8c1b7b21",
   "metadata": {},
   "outputs": [],
   "source": [
    "labels = np.zeros((num_files, 3))"
   ]
  },
  {
   "cell_type": "code",
   "execution_count": 25,
   "id": "c72663aa",
   "metadata": {},
   "outputs": [],
   "source": [
    "with open(DD + '../../metadata/reference.csv', newline='') as csvfile:\n",
    "    spamreader = csv.reader(csvfile, delimiter=' ', quotechar='|')\n",
    "    \n",
    "    for i, row in enumerate(spamreader):\n",
    "        if i > 0:\n",
    "            labels[i-1,:] = row[0].split(\",\")"
   ]
  },
  {
   "cell_type": "code",
   "execution_count": 26,
   "id": "9f3bf20f",
   "metadata": {},
   "outputs": [
    {
     "data": {
      "text/plain": [
       "array([[8.6220e+03, 1.0000e+00, 0.0000e+00],\n",
       "       [1.0720e+03, 1.0000e+00, 0.0000e+00],\n",
       "       [1.0456e+04, 1.0000e+00, 0.0000e+00],\n",
       "       ...,\n",
       "       [8.3900e+02, 0.0000e+00, 0.0000e+00],\n",
       "       [1.0300e+04, 0.0000e+00, 0.0000e+00],\n",
       "       [9.6760e+03, 1.0000e+00, 0.0000e+00]])"
      ]
     },
     "execution_count": 26,
     "metadata": {},
     "output_type": "execute_result"
    }
   ],
   "source": [
    "labels"
   ]
  },
  {
   "cell_type": "code",
   "execution_count": 29,
   "id": "50138948",
   "metadata": {},
   "outputs": [],
   "source": [
    "with open(os.getcwd() + \"/../data/labels.npy\", 'wb') as f:\n",
    "    np.save(f, labels)"
   ]
  },
  {
   "cell_type": "code",
   "execution_count": 45,
   "id": "a9653cc3",
   "metadata": {},
   "outputs": [
    {
     "data": {
      "text/plain": [
       "array([8.622e+03, 1.000e+00, 0.000e+00])"
      ]
     },
     "execution_count": 45,
     "metadata": {},
     "output_type": "execute_result"
    }
   ],
   "source": [
    "labels[0,:]"
   ]
  },
  {
   "cell_type": "markdown",
   "id": "df3a188c",
   "metadata": {},
   "source": [
    "# Slicing CT scans"
   ]
  },
  {
   "cell_type": "code",
   "execution_count": 50,
   "id": "518cdcb6",
   "metadata": {},
   "outputs": [
    {
     "name": "stderr",
     "output_type": "stream",
     "text": [
      "  0%|                                                  | 0/2000 [00:07<?, ?it/s]\n"
     ]
    },
    {
     "ename": "KeyboardInterrupt",
     "evalue": "",
     "output_type": "error",
     "traceback": [
      "\u001b[0;31m---------------------------------------------------------------------------\u001b[0m",
      "\u001b[0;31mKeyboardInterrupt\u001b[0m                         Traceback (most recent call last)",
      "\u001b[0;32m/tmp/ipykernel_1457790/3930825117.py\u001b[0m in \u001b[0;36m<module>\u001b[0;34m\u001b[0m\n\u001b[1;32m      7\u001b[0m \u001b[0;34m\u001b[0m\u001b[0m\n\u001b[1;32m      8\u001b[0m         \u001b[0;32mfor\u001b[0m \u001b[0mrow\u001b[0m \u001b[0;32min\u001b[0m \u001b[0mrange\u001b[0m\u001b[0;34m(\u001b[0m\u001b[0;36m512\u001b[0m\u001b[0;34m)\u001b[0m\u001b[0;34m:\u001b[0m\u001b[0;34m\u001b[0m\u001b[0;34m\u001b[0m\u001b[0m\n\u001b[0;32m----> 9\u001b[0;31m             \u001b[0mct_slice\u001b[0m\u001b[0;34m[\u001b[0m\u001b[0mrow\u001b[0m\u001b[0;34m,\u001b[0m\u001b[0;34m:\u001b[0m\u001b[0;34m]\u001b[0m \u001b[0;34m=\u001b[0m \u001b[0;34m[\u001b[0m\u001b[0minputImage\u001b[0m\u001b[0;34m.\u001b[0m\u001b[0mGetPixel\u001b[0m\u001b[0;34m(\u001b[0m\u001b[0;34m[\u001b[0m\u001b[0mrow\u001b[0m\u001b[0;34m,\u001b[0m\u001b[0mcol\u001b[0m\u001b[0;34m,\u001b[0m\u001b[0md\u001b[0m\u001b[0;34m]\u001b[0m\u001b[0;34m)\u001b[0m \u001b[0;32mfor\u001b[0m \u001b[0mcol\u001b[0m \u001b[0;32min\u001b[0m \u001b[0mrange\u001b[0m\u001b[0;34m(\u001b[0m\u001b[0;36m512\u001b[0m\u001b[0;34m)\u001b[0m\u001b[0;34m]\u001b[0m\u001b[0;34m\u001b[0m\u001b[0;34m\u001b[0m\u001b[0m\n\u001b[0m\u001b[1;32m     10\u001b[0m \u001b[0;34m\u001b[0m\u001b[0m\n\u001b[1;32m     11\u001b[0m         \u001b[0msave_npy\u001b[0m\u001b[0;34m(\u001b[0m\u001b[0mct_slice\u001b[0m\u001b[0;34m,\u001b[0m \u001b[0;34mf\"slices/{str(int(label[0]))}-{d}\"\u001b[0m\u001b[0;34m)\u001b[0m\u001b[0;34m\u001b[0m\u001b[0;34m\u001b[0m\u001b[0m\n",
      "\u001b[0;32m/tmp/ipykernel_1457790/3930825117.py\u001b[0m in \u001b[0;36m<listcomp>\u001b[0;34m(.0)\u001b[0m\n\u001b[1;32m      7\u001b[0m \u001b[0;34m\u001b[0m\u001b[0m\n\u001b[1;32m      8\u001b[0m         \u001b[0;32mfor\u001b[0m \u001b[0mrow\u001b[0m \u001b[0;32min\u001b[0m \u001b[0mrange\u001b[0m\u001b[0;34m(\u001b[0m\u001b[0;36m512\u001b[0m\u001b[0;34m)\u001b[0m\u001b[0;34m:\u001b[0m\u001b[0;34m\u001b[0m\u001b[0;34m\u001b[0m\u001b[0m\n\u001b[0;32m----> 9\u001b[0;31m             \u001b[0mct_slice\u001b[0m\u001b[0;34m[\u001b[0m\u001b[0mrow\u001b[0m\u001b[0;34m,\u001b[0m\u001b[0;34m:\u001b[0m\u001b[0;34m]\u001b[0m \u001b[0;34m=\u001b[0m \u001b[0;34m[\u001b[0m\u001b[0minputImage\u001b[0m\u001b[0;34m.\u001b[0m\u001b[0mGetPixel\u001b[0m\u001b[0;34m(\u001b[0m\u001b[0;34m[\u001b[0m\u001b[0mrow\u001b[0m\u001b[0;34m,\u001b[0m\u001b[0mcol\u001b[0m\u001b[0;34m,\u001b[0m\u001b[0md\u001b[0m\u001b[0;34m]\u001b[0m\u001b[0;34m)\u001b[0m \u001b[0;32mfor\u001b[0m \u001b[0mcol\u001b[0m \u001b[0;32min\u001b[0m \u001b[0mrange\u001b[0m\u001b[0;34m(\u001b[0m\u001b[0;36m512\u001b[0m\u001b[0;34m)\u001b[0m\u001b[0;34m]\u001b[0m\u001b[0;34m\u001b[0m\u001b[0;34m\u001b[0m\u001b[0m\n\u001b[0m\u001b[1;32m     10\u001b[0m \u001b[0;34m\u001b[0m\u001b[0m\n\u001b[1;32m     11\u001b[0m         \u001b[0msave_npy\u001b[0m\u001b[0;34m(\u001b[0m\u001b[0mct_slice\u001b[0m\u001b[0;34m,\u001b[0m \u001b[0;34mf\"slices/{str(int(label[0]))}-{d}\"\u001b[0m\u001b[0;34m)\u001b[0m\u001b[0;34m\u001b[0m\u001b[0;34m\u001b[0m\u001b[0m\n",
      "\u001b[0;32m~/miniconda3/envs/omnia/lib/python3.7/site-packages/SimpleITK/SimpleITK.py\u001b[0m in \u001b[0;36mGetPixel\u001b[0;34m(self, *idx)\u001b[0m\n\u001b[1;32m   4330\u001b[0m          and 3 parameters in 3D: the x, y and z index.\"\"\"\n\u001b[1;32m   4331\u001b[0m \u001b[0;34m\u001b[0m\u001b[0m\n\u001b[0;32m-> 4332\u001b[0;31m       \u001b[0;32mif\u001b[0m \u001b[0mlen\u001b[0m\u001b[0;34m(\u001b[0m\u001b[0midx\u001b[0m\u001b[0;34m)\u001b[0m \u001b[0;34m==\u001b[0m \u001b[0;36m1\u001b[0m\u001b[0;34m:\u001b[0m\u001b[0;34m\u001b[0m\u001b[0;34m\u001b[0m\u001b[0m\n\u001b[0m\u001b[1;32m   4333\u001b[0m        \u001b[0midx\u001b[0m \u001b[0;34m=\u001b[0m \u001b[0midx\u001b[0m\u001b[0;34m[\u001b[0m\u001b[0;36m0\u001b[0m\u001b[0;34m]\u001b[0m\u001b[0;34m\u001b[0m\u001b[0;34m\u001b[0m\u001b[0m\n\u001b[1;32m   4334\u001b[0m \u001b[0;34m\u001b[0m\u001b[0m\n",
      "\u001b[0;31mKeyboardInterrupt\u001b[0m: "
     ]
    }
   ],
   "source": [
    "for i in tqdm(range(labels.shape[0])):\n",
    "    label = labels[i,:]\n",
    "    inputImage = sitk.ReadImage(DD + str(int(label[0])) + \".mha\")\n",
    "    \n",
    "    for d in tqdm(range(inputImage.GetDepth()):\n",
    "        ct_slice = np.zeros((512,512))\n",
    "              \n",
    "        for row in range(512):\n",
    "            ct_slice[row,:] = [inputImage.GetPixel([row,col,d]) for col in range(512)]\n",
    "              \n",
    "        save_npy(ct_slice, f\"slices/{str(int(label[0]))}-{d}\")"
   ]
  }
 ],
 "metadata": {
  "kernelspec": {
   "display_name": "Python 3 (ipykernel)",
   "language": "python",
   "name": "python3"
  },
  "language_info": {
   "codemirror_mode": {
    "name": "ipython",
    "version": 3
   },
   "file_extension": ".py",
   "mimetype": "text/x-python",
   "name": "python",
   "nbconvert_exporter": "python",
   "pygments_lexer": "ipython3",
   "version": "3.7.11"
  }
 },
 "nbformat": 4,
 "nbformat_minor": 5
}
