{
 "cells": [
  {
   "cell_type": "code",
   "execution_count": 56,
   "id": "32296b23",
   "metadata": {},
   "outputs": [],
   "source": [
    "import numpy as np\n",
    "import matplotlib.pyplot as plt\n",
    "import os\n",
    "DIR = os.getcwd() + \"/../data/\""
   ]
  },
  {
   "cell_type": "code",
   "execution_count": 257,
   "id": "e629c69b",
   "metadata": {},
   "outputs": [],
   "source": [
    "files = os.listdir(DIR + \"npy-images\")\n",
    "labels = np.load(DIR + \"labels.npy\")"
   ]
  },
  {
   "cell_type": "code",
   "execution_count": 258,
   "id": "f8e348a7",
   "metadata": {},
   "outputs": [
    {
     "data": {
      "text/plain": [
       "['8265.npy',\n",
       " '10175.npy',\n",
       " '538.npy',\n",
       " '7609.npy',\n",
       " '1868.npy',\n",
       " '1072.npy',\n",
       " '7117.npy',\n",
       " '1874.npy',\n",
       " '9313.npy',\n",
       " '6472.npy',\n",
       " '2063.npy',\n",
       " '7728.npy',\n",
       " '3098.npy',\n",
       " '771.npy',\n",
       " '4871.npy',\n",
       " '2234.npy',\n",
       " '10456.npy',\n",
       " '68.npy',\n",
       " '2478.npy',\n",
       " '3097.npy',\n",
       " '9957.npy',\n",
       " '9096.npy',\n",
       " '5725.npy',\n",
       " '3223.npy',\n",
       " '9421.npy',\n",
       " '891.npy',\n",
       " '5449.npy',\n",
       " '6082.npy',\n",
       " '1662.npy',\n",
       " '8622.npy',\n",
       " '5397.npy',\n",
       " '1094.npy',\n",
       " '3151.npy',\n",
       " '2213.npy',\n",
       " '414.npy',\n",
       " '174.npy',\n",
       " '7703.npy',\n",
       " '6804.npy',\n",
       " '6206.npy',\n",
       " '1768.npy',\n",
       " '9448.npy',\n",
       " '3227.npy',\n",
       " '5945.npy',\n",
       " '6728.npy',\n",
       " '8560.npy',\n",
       " '8416.npy',\n",
       " '5647.npy',\n",
       " '9645.npy',\n",
       " '10285.npy',\n",
       " '842.npy',\n",
       " '7421.npy',\n",
       " '5279.npy',\n",
       " '4333.npy',\n",
       " '3053.npy',\n",
       " '10502.npy',\n",
       " '5220.npy',\n",
       " '10590.npy',\n",
       " '5630.npy',\n",
       " '9366.npy',\n",
       " '2641.npy',\n",
       " '92.npy',\n",
       " '10192.npy',\n",
       " '4353.npy',\n",
       " '1173.npy',\n",
       " '9348.npy',\n",
       " '7802.npy',\n",
       " '9670.npy',\n",
       " '8366.npy',\n",
       " '8734.npy',\n",
       " '838.npy',\n",
       " '6941.npy',\n",
       " '4509.npy',\n",
       " '2304.npy',\n",
       " '3677.npy',\n",
       " '9459.npy',\n",
       " '7310.npy',\n",
       " '7217.npy',\n",
       " '3920.npy',\n",
       " '7377.npy',\n",
       " '6589.npy']"
      ]
     },
     "execution_count": 258,
     "metadata": {},
     "output_type": "execute_result"
    }
   ],
   "source": [
    "files"
   ]
  },
  {
   "cell_type": "code",
   "execution_count": 259,
   "id": "512a8887",
   "metadata": {},
   "outputs": [
    {
     "name": "stdout",
     "output_type": "stream",
     "text": [
      "80\n",
      "(2000, 3)\n"
     ]
    }
   ],
   "source": [
    "print(len(files))\n",
    "print(labels.shape)"
   ]
  },
  {
   "cell_type": "code",
   "execution_count": 260,
   "id": "94678fb7",
   "metadata": {},
   "outputs": [],
   "source": [
    "ns = 1"
   ]
  },
  {
   "cell_type": "code",
   "execution_count": 261,
   "id": "f027a968",
   "metadata": {},
   "outputs": [],
   "source": [
    "data = np.zeros((ns*len(files), 512*512))"
   ]
  },
  {
   "cell_type": "code",
   "execution_count": 262,
   "id": "3ba6c50d",
   "metadata": {},
   "outputs": [
    {
     "name": "stdout",
     "output_type": "stream",
     "text": [
      "[1. 1. 1. 1. 1. 0. 0. 1. 1. 1. 0. 1. 1. 1. 1. 0. 1. 0. 1. 1. 1. 0. 0. 1.\n",
      " 0. 1. 1. 0. 0. 0. 0. 0. 0. 1. 1. 1. 0. 1. 0. 0. 1. 1. 1. 0. 0. 0. 1. 1.\n",
      " 0. 1. 1. 1. 1. 0. 1. 1. 0. 0. 1. 1. 0. 0. 0. 1. 1. 1. 1. 0. 1. 1. 0. 0.\n",
      " 1. 1. 1. 1. 1. 1. 0. 0.]\n",
      "[0. 0. 0. 0. 0. 0. 0. 1. 0. 0. 0. 0. 0. 0. 0. 0. 0. 0. 1. 1. 0. 0. 0. 1.\n",
      " 0. 0. 0. 0. 0. 0. 0. 0. 0. 0. 1. 1. 0. 1. 0. 0. 0. 1. 0. 0. 0. 0. 0. 0.\n",
      " 0. 1. 1. 1. 0. 0. 0. 0. 0. 0. 0. 0. 0. 0. 0. 0. 0. 1. 0. 0. 0. 0. 0. 0.\n",
      " 0. 0. 0. 0. 1. 0. 0. 0.]\n"
     ]
    }
   ],
   "source": [
    "cov_labels = labels[:,1]\n",
    "csev_labels = labels[:,2]#cov_labels + labels[:,2]\n",
    "rsev_labels = cov_labels + labels[:,2]\n",
    "print(cov_labels[0:len(files)])\n",
    "print(sev_labels[0:len(files)])"
   ]
  },
  {
   "cell_type": "code",
   "execution_count": 263,
   "id": "c3b7366c",
   "metadata": {},
   "outputs": [],
   "source": [
    "dlabels = np.zeros(ns*len(files))\n",
    "rlabels = np.zeros(ns*len(files))\n",
    "\n",
    "for i in range(len(files)):\n",
    "    img = np.load(DIR + \"npy-images/\" + str(int(labels[i,0])) + \".npy\")\n",
    "    idx = int(img.shape[0]/2)\n",
    "    data[i*ns,:] = img[idx,:,:].flatten()\n",
    "    #data[i*ns+1,:] = img[idx+1,:,:].flatten()\n",
    "    #data[i*ns-1,:] = img[idx-1,:,:].flatten()\n",
    "    #data[i*ns-2,:] = img[idx-2,:,:].flatten()\n",
    "    dlabels[i*ns] = int(csev_labels[i])\n",
    "    rlabels[i*ns] = int(rsev_labels[i])\n",
    "    #dlabels[i*ns+1] = l\n",
    "    #dlabels[i*ns-1] = l\n",
    "    #dlabels[i*ns-2] = l"
   ]
  },
  {
   "cell_type": "code",
   "execution_count": 235,
   "id": "bcb390c0",
   "metadata": {},
   "outputs": [
    {
     "data": {
      "text/plain": [
       "array([[-2048., -2048., -2048., ..., -2048., -2048., -2048.],\n",
       "       [-1024., -1023., -1021., ..., -1024., -1024., -1024.],\n",
       "       [-1024., -1024., -1024., ..., -1024., -1024., -1024.],\n",
       "       ...,\n",
       "       [-2048., -2048., -2048., ..., -2048., -2048., -2048.],\n",
       "       [-1024., -1024., -1024., ..., -1024., -1024., -1024.],\n",
       "       [-1020.,  -982.,  -999., ..., -1024., -1024., -1024.]])"
      ]
     },
     "execution_count": 235,
     "metadata": {},
     "output_type": "execute_result"
    }
   ],
   "source": [
    "data"
   ]
  },
  {
   "cell_type": "code",
   "execution_count": 264,
   "id": "1da6b7ad",
   "metadata": {},
   "outputs": [],
   "source": [
    "from sklearn.model_selection import train_test_split\n",
    "\n",
    "X_tmp, X_test, y_tmp, y_test = train_test_split(data, dlabels, test_size=0.2, train_size=0.8, random_state=42, shuffle=True)\n",
    "X_train, X_val, y_train, y_val = train_test_split(X_tmp, y_tmp, test_size=0.25, train_size=0.75, random_state=42, shuffle=True)"
   ]
  },
  {
   "cell_type": "code",
   "execution_count": 265,
   "id": "0a5d0b8b",
   "metadata": {},
   "outputs": [],
   "source": [
    "from sklearn.model_selection import train_test_split\n",
    "\n",
    "Xr_tmp, Xr_test, yr_tmp, yr_test = train_test_split(data, rlabels, test_size=0.2, train_size=0.8, random_state=42, shuffle=True)\n",
    "Xr_train, Xr_val, yr_train, yr_val = train_test_split(Xr_tmp, yr_tmp, test_size=0.25, train_size=0.75, random_state=42, shuffle=True)"
   ]
  },
  {
   "cell_type": "code",
   "execution_count": 282,
   "id": "5de40a15",
   "metadata": {},
   "outputs": [],
   "source": [
    "from sklearn import svm\n",
    "from sklearn.naive_bayes import GaussianNB\n",
    "from sklearn.metrics import confusion_matrix\n",
    "from sklearn.naive_bayes import BernoulliNB\n",
    "from sklearn.tree import DecisionTreeClassifier\n",
    "from sklearn.neighbors import KNeighborsClassifier\n",
    "from sklearn.metrics import accuracy_score, mean_squared_error"
   ]
  },
  {
   "cell_type": "code",
   "execution_count": 283,
   "id": "4e12ef22",
   "metadata": {},
   "outputs": [
    {
     "name": "stdout",
     "output_type": "stream",
     "text": [
      "[[15  1]\n",
      " [ 0  0]]\n",
      "0.9375\n",
      "0.0625\n",
      "[[13  3]\n",
      " [ 0  0]]\n",
      "0.8125\n",
      "0.1875\n"
     ]
    }
   ],
   "source": [
    "mod = svm.SVC()\n",
    "mod.fit(X_train, y_train)\n",
    "preds = mod.predict(X_val)\n",
    "print(confusion_matrix(preds, y_val))\n",
    "print(accuracy_score(preds, y_val))\n",
    "print(mean_squared_error(preds, y_val))\n",
    "preds = mod.predict(X_test)\n",
    "print(confusion_matrix(preds, y_test))\n",
    "print(accuracy_score(preds, y_test))\n",
    "print(mean_squared_error(preds, y_test))"
   ]
  },
  {
   "cell_type": "code",
   "execution_count": 284,
   "id": "a6280a2b",
   "metadata": {},
   "outputs": [
    {
     "name": "stdout",
     "output_type": "stream",
     "text": [
      "[[14  1]\n",
      " [ 1  0]]\n",
      "0.875\n",
      "0.125\n",
      "[[12  3]\n",
      " [ 1  0]]\n",
      "0.75\n",
      "0.25\n"
     ]
    }
   ],
   "source": [
    "mod = GaussianNB()\n",
    "mod.fit(X_train, y_train)\n",
    "preds = mod.predict(X_val)\n",
    "print(confusion_matrix(preds, y_val))\n",
    "print(accuracy_score(preds, y_val))\n",
    "print(mean_squared_error(preds, y_val))\n",
    "preds = mod.predict(X_test)\n",
    "print(confusion_matrix(preds, y_test))\n",
    "print(accuracy_score(preds, y_test))\n",
    "print(mean_squared_error(preds, y_test))"
   ]
  },
  {
   "cell_type": "code",
   "execution_count": 285,
   "id": "c4501e71",
   "metadata": {},
   "outputs": [
    {
     "name": "stdout",
     "output_type": "stream",
     "text": [
      "[[15  1]\n",
      " [ 0  0]]\n",
      "0.9375\n",
      "0.0625\n",
      "[[13  3]\n",
      " [ 0  0]]\n",
      "0.8125\n",
      "0.1875\n"
     ]
    }
   ],
   "source": [
    "mod = BernoulliNB()\n",
    "mod.fit(X_train, y_train)\n",
    "preds = mod.predict(X_val)\n",
    "print(confusion_matrix(preds, y_val))\n",
    "print(accuracy_score(preds, y_val))\n",
    "print(mean_squared_error(preds, y_val))\n",
    "preds = mod.predict(X_test)\n",
    "print(confusion_matrix(preds, y_test))\n",
    "print(accuracy_score(preds, y_test))\n",
    "print(mean_squared_error(preds, y_test))"
   ]
  },
  {
   "cell_type": "code",
   "execution_count": 286,
   "id": "aa1814a6",
   "metadata": {},
   "outputs": [
    {
     "name": "stdout",
     "output_type": "stream",
     "text": [
      "[[10  1]\n",
      " [ 5  0]]\n",
      "0.625\n",
      "0.375\n",
      "[[7 1]\n",
      " [6 2]]\n",
      "0.5625\n",
      "0.4375\n"
     ]
    }
   ],
   "source": [
    "mod = DecisionTreeClassifier()\n",
    "mod.fit(X_train, y_train)\n",
    "preds = mod.predict(X_val)\n",
    "print(confusion_matrix(preds, y_val))\n",
    "print(accuracy_score(preds, y_val))\n",
    "print(mean_squared_error(preds, y_val))\n",
    "preds = mod.predict(X_test)\n",
    "print(confusion_matrix(preds, y_test))\n",
    "print(accuracy_score(preds, y_test))\n",
    "print(mean_squared_error(preds, y_test))"
   ]
  },
  {
   "cell_type": "code",
   "execution_count": 287,
   "id": "e70fe959",
   "metadata": {},
   "outputs": [
    {
     "name": "stdout",
     "output_type": "stream",
     "text": [
      "[[14  1]\n",
      " [ 1  0]]\n",
      "0.875\n",
      "0.125\n",
      "[[12  3]\n",
      " [ 1  0]]\n",
      "0.75\n",
      "0.25\n"
     ]
    }
   ],
   "source": [
    "mod = KNeighborsClassifier()\n",
    "mod.fit(X_train, y_train)\n",
    "preds = mod.predict(X_val)\n",
    "print(confusion_matrix(preds, y_val))\n",
    "print(accuracy_score(preds, y_val))\n",
    "print(mean_squared_error(preds, y_val))\n",
    "preds = mod.predict(X_test)\n",
    "print(confusion_matrix(preds, y_test))\n",
    "print(accuracy_score(preds, y_test))\n",
    "print(mean_squared_error(preds, y_test))"
   ]
  },
  {
   "cell_type": "code",
   "execution_count": null,
   "id": "0b6fe86c",
   "metadata": {},
   "outputs": [],
   "source": []
  },
  {
   "cell_type": "code",
   "execution_count": 288,
   "id": "5de80607",
   "metadata": {},
   "outputs": [],
   "source": [
    "from sklearn.linear_model import LinearRegression"
   ]
  },
  {
   "cell_type": "code",
   "execution_count": 289,
   "id": "5c23fec9",
   "metadata": {},
   "outputs": [
    {
     "name": "stdout",
     "output_type": "stream",
     "text": [
      "[[1 0 1]\n",
      " [6 8 0]\n",
      " [0 0 0]]\n",
      "0.5625\n",
      "0.625\n",
      "[[3 0 1]\n",
      " [5 5 2]\n",
      " [0 0 0]]\n",
      "0.5\n",
      "0.6875\n"
     ]
    }
   ],
   "source": [
    "mod = svm.SVR()\n",
    "mod.fit(Xr_train, yr_train)\n",
    "preds = [(2 if p >= 1.5 else 1) if p >= 0.5 else 0 for p in mod.predict(Xr_val)]\n",
    "print(confusion_matrix(preds, yr_val))\n",
    "print(accuracy_score(preds, yr_val))\n",
    "print(mean_squared_error(preds, yr_val))\n",
    "preds = [(2 if p >= 1.5 else 1) if p >= 0.5 else 0 for p in mod.predict(Xr_test)]\n",
    "print(confusion_matrix(preds, yr_test))\n",
    "print(accuracy_score(preds, yr_test))\n",
    "print(mean_squared_error(preds, yr_test))"
   ]
  },
  {
   "cell_type": "code",
   "execution_count": 290,
   "id": "a062892c",
   "metadata": {},
   "outputs": [
    {
     "name": "stdout",
     "output_type": "stream",
     "text": [
      "[[3 0 1]\n",
      " [4 8 0]\n",
      " [0 0 0]]\n",
      "0.6875\n",
      "0.5\n",
      "[[3 0 1]\n",
      " [5 5 2]\n",
      " [0 0 0]]\n",
      "0.5\n",
      "0.6875\n"
     ]
    }
   ],
   "source": [
    "mod = LinearRegression()\n",
    "mod.fit(Xr_train, yr_train)\n",
    "preds = [(2 if p >= 1.5 else 1) if p >= 0.5 else 0 for p in mod.predict(Xr_val)]\n",
    "print(confusion_matrix(preds, yr_val))\n",
    "print(accuracy_score(preds, yr_val))\n",
    "print(mean_squared_error(preds, yr_val))\n",
    "preds = [(2 if p >= 1.5 else 1) if p >= 0.5 else 0 for p in mod.predict(Xr_test)]\n",
    "print(confusion_matrix(preds, yr_test))\n",
    "print(accuracy_score(preds, yr_test))\n",
    "print(mean_squared_error(preds, yr_test))"
   ]
  },
  {
   "cell_type": "code",
   "execution_count": null,
   "id": "207169ca",
   "metadata": {},
   "outputs": [],
   "source": []
  },
  {
   "cell_type": "code",
   "execution_count": 296,
   "id": "beca204b",
   "metadata": {},
   "outputs": [
    {
     "data": {
      "image/png": "[encoded data removed]",
      "text/plain": [
       "<Figure size 432x288 with 1 Axes>"
      ]
     },
     "metadata": {
      "needs_background": "light"
     },
     "output_type": "display_data"
    }
   ],
   "source": [
    "import numpy as np\n",
    "from matplotlib import pyplot as plt\n",
    "\n",
    "labels = ['SVM', 'GNB', 'BNB', 'DTC', 'KNN', 'SVR', 'LR']\n",
    "val_acc = [93.75, 87.5, 93.75, 62.5, 87.5, 56.25, 68.75]\n",
    "test_acc = [81.25, 75, 81.25, 56.25, 75, 50, 68.75]\n",
    "width = 0.35       # the width of the bars: can also be len(x) sequence\n",
    "\n",
    "fig, ax = plt.subplots()\n",
    "\n",
    "x = np.arange(len(labels))  # the label locations\n",
    "ax.bar(x - width/2, val_acc, width, label='Val. Acc.')\n",
    "ax.bar(x + width/2, test_acc, width, label='Test Acc.')\n",
    "ax.set_xticks(x)\n",
    "ax.set_xticklabels(labels)\n",
    "ax.set_xlabel('Model')\n",
    "ax.set_ylabel('Classification Accuracy (%)')\n",
    "ax.set_title('Performance on STOIC dataset by model')\n",
    "ax.legend(loc='upper right', frameon=False)\n",
    "plt.savefig('STOIC.pdf')\n",
    "\n",
    "plt.show()"
   ]
  },
  {
   "cell_type": "code",
   "execution_count": null,
   "id": "ab5261bc",
   "metadata": {},
   "outputs": [],
   "source": [
    "import numpy as np\n",
    "from matplotlib import pyplot as plt\n",
    "\n",
    "labels = ['SVM', 'GNB', 'BNB', 'DTC', 'KNN', 'SVR', 'LR']\n",
    "val_acc = [67.7, 67.7, 87.1, 74.2, 64.5, 57.5, 74.2]\n",
    "test_acc = [68.8, 75, 90.6, 81, 50, 62.8, 75]\n",
    "width = 0.35       # the width of the bars: can also be len(x) sequence\n",
    "\n",
    "fig, ax = plt.subplots()\n",
    "\n",
    "x = np.arange(len(labels))  # the label locations\n",
    "\n",
    "ax.bar(x - width/2, val_acc, width, label='Validation MSE')\n",
    "ax.bar(x + width/2, test_acc, width, label='Test MSE')\n",
    "ax.set_xticks(x)\n",
    "ax.set_xticklabels(labels)\n",
    "ax.set_xlabel('Model')\n",
    "ax.set_ylabel('MSE')\n",
    "ax.set_title('Performance on STOIC dataset by model')\n",
    "ax.legend(loc='upper right', frameon=False)\n",
    "plt.savefig('STOIC.pdf')\n",
    "\n",
    "plt.show()"
   ]
  }
 ],
 "metadata": {
  "kernelspec": {
   "display_name": "Python 3 (ipykernel)",
   "language": "python",
   "name": "python3"
  },
  "language_info": {
   "codemirror_mode": {
    "name": "ipython",
    "version": 3
   },
   "file_extension": ".py",
   "mimetype": "text/x-python",
   "name": "python",
   "nbconvert_exporter": "python",
   "pygments_lexer": "ipython3",
   "version": "3.7.11"
  }
 },
 "nbformat": 4,
 "nbformat_minor": 5
}
