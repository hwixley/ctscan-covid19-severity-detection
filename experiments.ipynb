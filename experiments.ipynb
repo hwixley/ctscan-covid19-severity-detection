{
 "cells": [
  {
   "cell_type": "code",
   "execution_count": 56,
   "id": "3de2df31",
   "metadata": {},
   "outputs": [],
   "source": [
    "import numpy as np\n",
    "import matplotlib.pyplot as plt\n",
    "import os\n",
    "DIR = os.getcwd() + \"/../data/\""
   ]
  },
  {
   "cell_type": "code",
   "execution_count": 213,
   "id": "5ef8f3c4",
   "metadata": {},
   "outputs": [],
   "source": [
    "files = os.listdir(DIR + \"npy-images\")\n",
    "labels = np.load(DIR + \"labels.npy\")"
   ]
  },
  {
   "cell_type": "code",
   "execution_count": 214,
   "id": "f11afcf5",
   "metadata": {},
   "outputs": [
    {
     "data": {
      "text/plain": [
       "['10175.npy',\n",
       " '538.npy',\n",
       " '7609.npy',\n",
       " '1868.npy',\n",
       " '1072.npy',\n",
       " '7117.npy',\n",
       " '9313.npy',\n",
       " '6472.npy',\n",
       " '2063.npy',\n",
       " '3098.npy',\n",
       " '771.npy',\n",
       " '4871.npy',\n",
       " '2234.npy',\n",
       " '10456.npy',\n",
       " '68.npy',\n",
       " '3097.npy',\n",
       " '9096.npy',\n",
       " '5725.npy',\n",
       " '3223.npy',\n",
       " '891.npy',\n",
       " '1662.npy',\n",
       " '8622.npy',\n",
       " '5397.npy',\n",
       " '1094.npy',\n",
       " '2213.npy',\n",
       " '414.npy',\n",
       " '174.npy',\n",
       " '6804.npy',\n",
       " '1768.npy',\n",
       " '9448.npy',\n",
       " '8416.npy',\n",
       " '5647.npy',\n",
       " '842.npy',\n",
       " '7421.npy',\n",
       " '5279.npy',\n",
       " '4333.npy',\n",
       " '3053.npy',\n",
       " '10502.npy',\n",
       " '5220.npy',\n",
       " '9366.npy',\n",
       " '2641.npy',\n",
       " '92.npy',\n",
       " '1173.npy',\n",
       " '9348.npy',\n",
       " '7802.npy',\n",
       " '9670.npy',\n",
       " '8366.npy',\n",
       " '838.npy',\n",
       " '6941.npy',\n",
       " '9459.npy',\n",
       " '7310.npy',\n",
       " '7217.npy',\n",
       " '7377.npy']"
      ]
     },
     "execution_count": 214,
     "metadata": {},
     "output_type": "execute_result"
    }
   ],
   "source": [
    "files"
   ]
  },
  {
   "cell_type": "code",
   "execution_count": 215,
   "id": "11a06666",
   "metadata": {},
   "outputs": [
    {
     "name": "stdout",
     "output_type": "stream",
     "text": [
      "53\n",
      "(2000, 3)\n"
     ]
    }
   ],
   "source": [
    "print(len(files))\n",
    "print(labels.shape)"
   ]
  },
  {
   "cell_type": "code",
   "execution_count": 216,
   "id": "b295cb6f",
   "metadata": {},
   "outputs": [],
   "source": [
    "ns = 4"
   ]
  },
  {
   "cell_type": "code",
   "execution_count": 217,
   "id": "f4859ece",
   "metadata": {},
   "outputs": [],
   "source": [
    "data = np.zeros((ns*len(files), 512*512))"
   ]
  },
  {
   "cell_type": "code",
   "execution_count": 218,
   "id": "55b7d836",
   "metadata": {},
   "outputs": [
    {
     "name": "stdout",
     "output_type": "stream",
     "text": [
      "[1. 1. 1. 1. 1. 0. 0. 1. 1. 1. 0. 1. 1. 1. 1. 0. 1. 0. 1. 1. 1. 0. 0. 1.\n",
      " 0. 1. 1. 0. 0. 0. 0. 0. 0. 1. 1. 1. 0. 1. 0. 0. 1. 1. 1. 0. 0. 0. 1. 1.\n",
      " 0. 1. 1. 1. 1.]\n",
      "[1. 1. 1. 1. 1. 0. 0. 2. 1. 1. 0. 1. 1. 1. 1. 0. 1. 0. 2. 2. 1. 0. 0. 2.\n",
      " 0. 1. 1. 0. 0. 0. 0. 0. 0. 1. 2. 2. 0. 2. 0. 0. 1. 2. 1. 0. 0. 0. 1. 1.\n",
      " 0. 2. 2. 2. 1.]\n"
     ]
    }
   ],
   "source": [
    "cov_labels = labels[:,1]\n",
    "sev_labels = cov_labels + labels[:,2]\n",
    "print(cov_labels[0:len(files)])\n",
    "print(sev_labels[0:len(files)])"
   ]
  },
  {
   "cell_type": "code",
   "execution_count": 219,
   "id": "afc008e5",
   "metadata": {},
   "outputs": [],
   "source": [
    "dlabels = np.zeros(ns*len(files))\n",
    "\n",
    "for i in range(len(files)):\n",
    "    img = np.load(DIR + \"npy-images/\" + str(int(labels[i,0])) + \".npy\")\n",
    "    idx = int(img.shape[0]/2)\n",
    "    data[i*ns,:] = img[idx,:,:].flatten()\n",
    "    data[i*ns+1,:] = img[idx+1,:,:].flatten()\n",
    "    data[i*ns-1,:] = img[idx-1,:,:].flatten()\n",
    "    data[i*ns-2,:] = img[idx-2,:,:].flatten()\n",
    "    l = int(sev_labels[i])\n",
    "    dlabels[i*ns] = l\n",
    "    dlabels[i*ns+1] = l\n",
    "    dlabels[i*ns-1] = l\n",
    "    dlabels[i*ns-2] = l"
   ]
  },
  {
   "cell_type": "code",
   "execution_count": 202,
   "id": "011d2059",
   "metadata": {},
   "outputs": [
    {
     "data": {
      "text/plain": [
       "array([[-2048., -2048., -2048., ..., -2048., -2048., -2048.],\n",
       "       [-2048., -2048., -2048., ..., -2048., -2048., -2048.],\n",
       "       [-1022., -1021., -1019., ..., -1024., -1024., -1024.],\n",
       "       ...,\n",
       "       [-1024., -1024., -1024., ..., -1024., -1024., -1024.],\n",
       "       [-2048., -2048., -2048., ..., -2048., -2048., -2048.],\n",
       "       [-2048., -2048., -2048., ..., -2048., -2048., -2048.]])"
      ]
     },
     "execution_count": 202,
     "metadata": {},
     "output_type": "execute_result"
    }
   ],
   "source": [
    "data"
   ]
  },
  {
   "cell_type": "code",
   "execution_count": 220,
   "id": "c339c3b3",
   "metadata": {},
   "outputs": [],
   "source": [
    "from sklearn.model_selection import train_test_split\n",
    "\n",
    "X_tmp, X_test, y_tmp, y_test = train_test_split(data, dlabels, test_size=0.2, train_size=0.8, random_state=42, shuffle=True)\n",
    "X_train, X_val, y_train, y_val = train_test_split(X_tmp, y_tmp, test_size=0.25, train_size=0.75, random_state=42, shuffle=True)"
   ]
  },
  {
   "cell_type": "code",
   "execution_count": 186,
   "id": "1d2100ca",
   "metadata": {},
   "outputs": [],
   "source": [
    "from sklearn import svm\n",
    "from sklearn.naive_bayes import GaussianNB\n",
    "from sklearn.metrics import confusion_matrix\n",
    "from sklearn.naive_bayes import BernoulliNB\n",
    "from sklearn.tree import DecisionTreeClassifier\n",
    "from sklearn.neighbors import KNeighborsClassifier"
   ]
  },
  {
   "cell_type": "code",
   "execution_count": 221,
   "id": "b76d6f21",
   "metadata": {},
   "outputs": [
    {
     "name": "stdout",
     "output_type": "stream",
     "text": [
      "0.7209302325581395\n",
      "[[13  8  1]\n",
      " [ 0 17  3]\n",
      " [ 0  0  1]]\n",
      "0.8372093023255814\n",
      "[[17  0  2]\n",
      " [ 0 15  5]\n",
      " [ 0  0  4]]\n"
     ]
    }
   ],
   "source": [
    "mod = svm.SVC()\n",
    "mod.fit(X_train, y_train)\n",
    "print(mod.score(X_val, y_val))\n",
    "preds = mod.predict(X_val)\n",
    "print(confusion_matrix(preds, y_val))\n",
    "print(mod.score(X_test, y_test))\n",
    "preds = mod.predict(X_test)\n",
    "print(confusion_matrix(preds, y_test))"
   ]
  },
  {
   "cell_type": "code",
   "execution_count": 222,
   "id": "90f3ee95",
   "metadata": {},
   "outputs": [
    {
     "name": "stdout",
     "output_type": "stream",
     "text": [
      "0.5813953488372093\n",
      "[[ 6  7  0]\n",
      " [ 2 16  2]\n",
      " [ 5  2  3]]\n",
      "0.6744186046511628\n",
      "[[11  1  0]\n",
      " [ 3 11  4]\n",
      " [ 3  3  7]]\n"
     ]
    }
   ],
   "source": [
    "mod = GaussianNB()\n",
    "mod.fit(X_train, y_train)\n",
    "print(mod.score(X_val, y_val))\n",
    "preds = mod.predict(X_val)\n",
    "print(confusion_matrix(preds, y_val))\n",
    "print(mod.score(X_test, y_test))\n",
    "preds = mod.predict(X_test)\n",
    "print(confusion_matrix(preds, y_test))"
   ]
  },
  {
   "cell_type": "code",
   "execution_count": 223,
   "id": "0265721c",
   "metadata": {},
   "outputs": [
    {
     "name": "stdout",
     "output_type": "stream",
     "text": [
      "0.8604651162790697\n",
      "[[13  5  1]\n",
      " [ 0 20  0]\n",
      " [ 0  0  4]]\n",
      "0.9069767441860465\n",
      "[[17  1  2]\n",
      " [ 0 14  1]\n",
      " [ 0  0  8]]\n"
     ]
    }
   ],
   "source": [
    "mod = BernoulliNB()\n",
    "mod.fit(X_train, y_train)\n",
    "print(mod.score(X_val, y_val))\n",
    "preds = mod.predict(X_val)\n",
    "print(confusion_matrix(preds, y_val))\n",
    "print(mod.score(X_test, y_test))\n",
    "preds = mod.predict(X_test)\n",
    "print(confusion_matrix(preds, y_test))"
   ]
  },
  {
   "cell_type": "code",
   "execution_count": 224,
   "id": "b9d95b6c",
   "metadata": {},
   "outputs": [
    {
     "name": "stdout",
     "output_type": "stream",
     "text": [
      "0.7209302325581395\n",
      "[[12  6  1]\n",
      " [ 1 15  0]\n",
      " [ 0  4  4]]\n",
      "0.8604651162790697\n",
      "[[15  1  1]\n",
      " [ 1 14  2]\n",
      " [ 1  0  8]]\n"
     ]
    }
   ],
   "source": [
    "mod = DecisionTreeClassifier()\n",
    "mod.fit(X_train, y_train)\n",
    "print(mod.score(X_val, y_val))\n",
    "preds = mod.predict(X_val)\n",
    "print(confusion_matrix(preds, y_val))\n",
    "print(mod.score(X_test, y_test))\n",
    "preds = mod.predict(X_test)\n",
    "print(confusion_matrix(preds, y_test))"
   ]
  },
  {
   "cell_type": "code",
   "execution_count": 225,
   "id": "91ee9e43",
   "metadata": {},
   "outputs": [
    {
     "name": "stdout",
     "output_type": "stream",
     "text": [
      "0.5116279069767442\n",
      "[[ 6 10  0]\n",
      " [ 3 12  1]\n",
      " [ 4  3  4]]\n",
      "0.6976744186046512\n",
      "[[11  2  0]\n",
      " [ 2  9  1]\n",
      " [ 4  4 10]]\n"
     ]
    }
   ],
   "source": [
    "mod = KNeighborsClassifier()\n",
    "mod.fit(X_train, y_train)\n",
    "print(mod.score(X_val, y_val))\n",
    "preds = mod.predict(X_val)\n",
    "print(confusion_matrix(preds, y_val))\n",
    "print(mod.score(X_test, y_test))\n",
    "preds = mod.predict(X_test)\n",
    "print(confusion_matrix(preds, y_test))"
   ]
  },
  {
   "cell_type": "code",
   "execution_count": 168,
   "id": "1cde75db",
   "metadata": {},
   "outputs": [],
   "source": []
  },
  {
   "cell_type": "code",
   "execution_count": 211,
   "id": "1eabed6e",
   "metadata": {},
   "outputs": [],
   "source": [
    "from sklearn.linear_model import LinearRegression"
   ]
  },
  {
   "cell_type": "code",
   "execution_count": 226,
   "id": "20cd2771",
   "metadata": {},
   "outputs": [
    {
     "name": "stdout",
     "output_type": "stream",
     "text": [
      "0.6377222986116342\n",
      "[[11  4  0]\n",
      " [ 2 21  4]\n",
      " [ 0  0  1]]\n",
      "0.8042993192464213\n",
      "[[16  0  0]\n",
      " [ 1 15  4]\n",
      " [ 0  0  7]]\n"
     ]
    }
   ],
   "source": [
    "mod = svm.SVR()\n",
    "mod.fit(X_train, y_train)\n",
    "print(mod.score(X_val, y_val))\n",
    "preds = [(2 if p >= 1.5 else 1) if p >= 0.5 else 0 for p in mod.predict(X_val)]\n",
    "print(confusion_matrix(preds, y_val))\n",
    "print(mod.score(X_test, y_test))\n",
    "preds = [(2 if p >= 1.5 else 1) if p >= 0.5 else 0 for p in mod.predict(X_test)]\n",
    "print(confusion_matrix(preds, y_test))"
   ]
  },
  {
   "cell_type": "code",
   "execution_count": 227,
   "id": "26b1db10",
   "metadata": {},
   "outputs": [
    {
     "name": "stdout",
     "output_type": "stream",
     "text": [
      "0.7430831839642866\n",
      "[[13  4  0]\n",
      " [ 0 21  0]\n",
      " [ 0  0  5]]\n",
      "0.994553098961824\n",
      "[[17  0  0]\n",
      " [ 0 15  0]\n",
      " [ 0  0 11]]\n"
     ]
    }
   ],
   "source": [
    "mod = LinearRegression()\n",
    "mod.fit(X_train, y_train)\n",
    "print(mod.score(X_val, y_val))\n",
    "preds = [(2 if p >= 1.5 else 1) if p >= 0.5 else 0 for p in mod.predict(X_val)]\n",
    "print(confusion_matrix(preds, y_val))\n",
    "print(mod.score(X_test, y_test))\n",
    "preds = [(2 if p >= 1.5 else 1) if p >= 0.5 else 0 for p in mod.predict(X_test)]\n",
    "print(confusion_matrix(preds, y_test))"
   ]
  },
  {
   "cell_type": "code",
   "execution_count": null,
   "id": "5e4990e3",
   "metadata": {},
   "outputs": [],
   "source": []
  }
 ],
 "metadata": {
  "kernelspec": {
   "display_name": "Python 3 (ipykernel)",
   "language": "python",
   "name": "python3"
  },
  "language_info": {
   "codemirror_mode": {
    "name": "ipython",
    "version": 3
   },
   "file_extension": ".py",
   "mimetype": "text/x-python",
   "name": "python",
   "nbconvert_exporter": "python",
   "pygments_lexer": "ipython3",
   "version": "3.7.11"
  }
 },
 "nbformat": 4,
 "nbformat_minor": 5
}
