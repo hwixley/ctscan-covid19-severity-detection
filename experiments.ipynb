{
 "cells": [
  {
   "cell_type": "code",
   "execution_count": 12,
   "id": "ff17718b",
   "metadata": {},
   "outputs": [],
   "source": [
    "import numpy as np\n",
    "import matplotlib.pyplot as plt\n",
    "import os\n",
    "DIR = os.getcwd() + \"/../data2/\""
   ]
  },
  {
   "cell_type": "code",
   "execution_count": 13,
   "id": "633676c8",
   "metadata": {},
   "outputs": [],
   "source": [
    "def savePickle(dta, filename):\n",
    "    with open(filename, \"wb\") as f: np.save(f, dta)"
   ]
  },
  {
   "cell_type": "code",
   "execution_count": 21,
   "id": "34906717",
   "metadata": {},
   "outputs": [],
   "source": [
    "grabber = \"gaussian\"\n",
    "#doc = \"depthTile-size243000-newnorm-uf\"\n",
    "doc = \"size245000-newnorm-uf\"\n",
    "data_dir = DIR + f\"slices/{grabber}-grabber/{doc}/\""
   ]
  },
  {
   "cell_type": "code",
   "execution_count": 22,
   "id": "1431e4e2",
   "metadata": {},
   "outputs": [],
   "source": [
    "fname = \"all\"\n",
    "data = np.load(data_dir + fname + \".npy\")\n",
    "labels = np.load(data_dir + fname + \"-labels.npy\")"
   ]
  },
  {
   "cell_type": "code",
   "execution_count": 23,
   "id": "8cb63a4c",
   "metadata": {},
   "outputs": [
    {
     "name": "stdout",
     "output_type": "stream",
     "text": [
      "(1962, 245009)\n",
      "(1962, 2)\n"
     ]
    }
   ],
   "source": [
    "print(data.shape)\n",
    "print(labels.shape)"
   ]
  },
  {
   "cell_type": "code",
   "execution_count": 17,
   "id": "a7b669e0",
   "metadata": {},
   "outputs": [
    {
     "name": "stdout",
     "output_type": "stream",
     "text": [
      "[1. 1. 1. ... 0. 0. 1.]\n",
      "[0. 0. 0. ... 0. 0. 0.]\n"
     ]
    }
   ],
   "source": [
    "#labels = labels*2 -1\n",
    "cov_labels = labels[:,0]\n",
    "csev_labels = labels[:,1] #cov_labels + labels[:,2]\n",
    "rsev_labels = (cov_labels + csev_labels)#/2\n",
    "print(cov_labels[0:labels.shape[0]])\n",
    "print(csev_labels[0:labels.shape[0]])"
   ]
  },
  {
   "cell_type": "code",
   "execution_count": null,
   "id": "2fa904e2",
   "metadata": {},
   "outputs": [],
   "source": []
  },
  {
   "cell_type": "code",
   "execution_count": null,
   "id": "4b8ffeb6",
   "metadata": {},
   "outputs": [],
   "source": []
  },
  {
   "cell_type": "code",
   "execution_count": 23,
   "id": "bdbb44b4",
   "metadata": {},
   "outputs": [
    {
     "data": {
      "text/plain": [
       "(1962, 9)"
      ]
     },
     "execution_count": 23,
     "metadata": {},
     "output_type": "execute_result"
    }
   ],
   "source": [
    "usr_ftrs = data[:,-9:]\n",
    "mus = np.mean(usr_ftrs, axis=0)\n",
    "maxs = np.max(abs(usr_ftrs), axis=0)\n",
    "new_usr_ftrs = (usr_ftrs - mus)/maxs\n",
    "new_usr_ftrs.shape"
   ]
  },
  {
   "cell_type": "code",
   "execution_count": 24,
   "id": "1a4fa65c",
   "metadata": {},
   "outputs": [],
   "source": [
    "data[:,245000:] = new_usr_ftrs"
   ]
  },
  {
   "cell_type": "code",
   "execution_count": 25,
   "id": "a1989283",
   "metadata": {},
   "outputs": [
    {
     "data": {
      "text/plain": [
       "(1962, 2)"
      ]
     },
     "execution_count": 25,
     "metadata": {},
     "output_type": "execute_result"
    }
   ],
   "source": [
    "labels.shape"
   ]
  },
  {
   "cell_type": "code",
   "execution_count": null,
   "id": "7c17d192",
   "metadata": {},
   "outputs": [],
   "source": []
  },
  {
   "cell_type": "code",
   "execution_count": 19,
   "id": "65ed152d",
   "metadata": {},
   "outputs": [],
   "source": [
    "files = os.listdir(data_dir)\n",
    "labels = np.load(data_dir + \"labels.npy\")"
   ]
  },
  {
   "cell_type": "code",
   "execution_count": 21,
   "id": "93ac92ea",
   "metadata": {},
   "outputs": [
    {
     "data": {
      "text/plain": [
       "['batch200.npy',\n",
       " 'batch100.npy',\n",
       " 'batch1100.npy',\n",
       " 'batch600.npy',\n",
       " 'batch400.npy',\n",
       " 'batch1700.npy',\n",
       " 'batch900.npy',\n",
       " 'batch1400.npy',\n",
       " 'batch300.npy',\n",
       " 'batch1000.npy',\n",
       " 'batch1800.npy',\n",
       " 'batch1600.npy',\n",
       " 'batch1900.npy',\n",
       " 'batch500.npy',\n",
       " 'batch800.npy',\n",
       " 'labels.npy',\n",
       " 'batch1200.npy',\n",
       " 'batch1300.npy',\n",
       " 'batch700.npy',\n",
       " 'batch1500.npy']"
      ]
     },
     "execution_count": 21,
     "metadata": {},
     "output_type": "execute_result"
    }
   ],
   "source": [
    "files"
   ]
  },
  {
   "cell_type": "code",
   "execution_count": 6,
   "id": "24fcb012",
   "metadata": {},
   "outputs": [
    {
     "ename": "NameError",
     "evalue": "name 'data' is not defined",
     "output_type": "error",
     "traceback": [
      "\u001b[0;31m---------------------------------------------------------------------------\u001b[0m",
      "\u001b[0;31mNameError\u001b[0m                                 Traceback (most recent call last)",
      "Input \u001b[0;32mIn [6]\u001b[0m, in \u001b[0;36m<cell line: 1>\u001b[0;34m()\u001b[0m\n\u001b[0;32m----> 1\u001b[0m plt\u001b[38;5;241m.\u001b[39mimshow(\u001b[43mdata\u001b[49m[\u001b[38;5;241m10\u001b[39m,:,:]\u001b[38;5;241m.\u001b[39mreshape(\u001b[38;5;241m128\u001b[39m, \u001b[38;5;241m-\u001b[39m\u001b[38;5;241m1\u001b[39m, \u001b[38;5;241m3\u001b[39m))\n",
      "\u001b[0;31mNameError\u001b[0m: name 'data' is not defined"
     ]
    }
   ],
   "source": [
    "plt.imshow(data[10,:,:].reshape(128, -1, 3))"
   ]
  },
  {
   "cell_type": "code",
   "execution_count": 22,
   "id": "a3f74a6c",
   "metadata": {},
   "outputs": [],
   "source": [
    "batch = 1300\n",
    "data = np.load(f\"{data_dir}batch{batch}.npy\")\n",
    "labels = np.load(f\"{data_dir}labels.npy\")"
   ]
  },
  {
   "cell_type": "code",
   "execution_count": 6,
   "id": "776fe720",
   "metadata": {},
   "outputs": [],
   "source": [
    "preproc = \"\"\n",
    "data = np.load(f\"{data_dir}{preproc}all.npy\")\n",
    "labels = np.load(f\"{data_dir}labels.npy\")"
   ]
  },
  {
   "cell_type": "code",
   "execution_count": 9,
   "id": "6a268cff",
   "metadata": {},
   "outputs": [
    {
     "data": {
      "text/plain": [
       "array([1., 1., 1., ..., 0., 0., 1.])"
      ]
     },
     "execution_count": 9,
     "metadata": {},
     "output_type": "execute_result"
    }
   ],
   "source": [
    "cov_labels"
   ]
  },
  {
   "cell_type": "code",
   "execution_count": 15,
   "id": "1df62e59",
   "metadata": {},
   "outputs": [
    {
     "data": {
      "text/plain": [
       "array([1., 1., 1., 1., 1., 0., 0., 2., 1., 1., 0., 1., 1., 1., 1., 0., 1.,\n",
       "       0., 2., 2., 1., 0., 0., 2., 0., 1., 1., 0., 0., 0., 0., 0., 0., 1.,\n",
       "       2., 2., 0., 2., 0., 0., 1., 2., 1., 0., 0., 0., 1., 1., 0., 2., 2.,\n",
       "       2., 1., 0., 1., 1., 0., 0., 1., 1., 0., 0., 0., 1., 1., 2., 1., 0.,\n",
       "       1., 1., 0., 0., 1., 1., 1., 1., 2., 1., 0., 0., 0., 0., 1., 0., 1.,\n",
       "       1., 0., 0., 0., 1., 1., 1., 1., 0., 1., 1., 1., 2., 1., 0.])"
      ]
     },
     "execution_count": 15,
     "metadata": {},
     "output_type": "execute_result"
    }
   ],
   "source": [
    "rsev_labels[0:100]"
   ]
  },
  {
   "cell_type": "code",
   "execution_count": 86,
   "id": "0a5a0bb0",
   "metadata": {},
   "outputs": [
    {
     "data": {
      "text/plain": [
       "array([-1., -1., -1., -1., -1., -1., -1.,  1., -1., -1., -1., -1., -1.,\n",
       "       -1., -1., -1., -1., -1.,  1.,  1., -1., -1., -1.,  1., -1., -1.,\n",
       "       -1., -1., -1., -1., -1., -1., -1., -1.,  1.,  1., -1.,  1., -1.,\n",
       "       -1., -1.,  1., -1., -1., -1., -1., -1., -1., -1.,  1.,  1.,  1.,\n",
       "       -1., -1., -1., -1., -1., -1., -1., -1., -1., -1., -1., -1., -1.,\n",
       "        1., -1., -1., -1., -1., -1., -1., -1., -1., -1., -1.,  1., -1.,\n",
       "       -1., -1., -1., -1., -1., -1., -1., -1., -1., -1., -1., -1., -1.,\n",
       "       -1., -1., -1., -1., -1., -1.,  1., -1., -1.])"
      ]
     },
     "execution_count": 86,
     "metadata": {},
     "output_type": "execute_result"
    }
   ],
   "source": [
    "csev_labels[0:100]"
   ]
  },
  {
   "cell_type": "code",
   "execution_count": 136,
   "id": "1e3a9e90",
   "metadata": {},
   "outputs": [
    {
     "data": {
      "text/plain": [
       "(1400, 132651)"
      ]
     },
     "execution_count": 136,
     "metadata": {},
     "output_type": "execute_result"
    }
   ],
   "source": [
    "data.shape"
   ]
  },
  {
   "cell_type": "code",
   "execution_count": 16,
   "id": "304f472a",
   "metadata": {},
   "outputs": [
    {
     "ename": "NameError",
     "evalue": "name 'batch_size' is not defined",
     "output_type": "error",
     "traceback": [
      "\u001b[0;31m---------------------------------------------------------------------------\u001b[0m",
      "\u001b[0;31mNameError\u001b[0m                                 Traceback (most recent call last)",
      "\u001b[0;32m/tmp/ipykernel_23279/3210016535.py\u001b[0m in \u001b[0;36m<module>\u001b[0;34m\u001b[0m\n\u001b[0;32m----> 1\u001b[0;31m \u001b[0mflat_data\u001b[0m \u001b[0;34m=\u001b[0m \u001b[0mnp\u001b[0m\u001b[0;34m.\u001b[0m\u001b[0mzeros\u001b[0m\u001b[0;34m(\u001b[0m\u001b[0;34m(\u001b[0m\u001b[0mbatch_size\u001b[0m\u001b[0;34m+\u001b[0m\u001b[0;36m1\u001b[0m\u001b[0;34m,\u001b[0m \u001b[0;36m3\u001b[0m\u001b[0;34m*\u001b[0m\u001b[0;36m128\u001b[0m\u001b[0;34m*\u001b[0m\u001b[0;36m128\u001b[0m\u001b[0;34m)\u001b[0m\u001b[0;34m)\u001b[0m\u001b[0;34m\u001b[0m\u001b[0;34m\u001b[0m\u001b[0m\n\u001b[0m\u001b[1;32m      2\u001b[0m \u001b[0;32mfor\u001b[0m \u001b[0mi\u001b[0m \u001b[0;32min\u001b[0m \u001b[0mrange\u001b[0m\u001b[0;34m(\u001b[0m\u001b[0mdata\u001b[0m\u001b[0;34m.\u001b[0m\u001b[0mshape\u001b[0m\u001b[0;34m[\u001b[0m\u001b[0;36m0\u001b[0m\u001b[0;34m]\u001b[0m\u001b[0;34m)\u001b[0m\u001b[0;34m:\u001b[0m\u001b[0;34m\u001b[0m\u001b[0;34m\u001b[0m\u001b[0m\n\u001b[1;32m      3\u001b[0m     \u001b[0;31m#print(np.inf in data[i,:,:,:])\u001b[0m\u001b[0;34m\u001b[0m\u001b[0;34m\u001b[0m\u001b[0;34m\u001b[0m\u001b[0m\n\u001b[1;32m      4\u001b[0m     \u001b[0mflat_data\u001b[0m\u001b[0;34m[\u001b[0m\u001b[0mi\u001b[0m\u001b[0;34m,\u001b[0m\u001b[0;34m:\u001b[0m\u001b[0;34m]\u001b[0m \u001b[0;34m=\u001b[0m \u001b[0mdata\u001b[0m\u001b[0;34m[\u001b[0m\u001b[0mi\u001b[0m\u001b[0;34m,\u001b[0m\u001b[0;34m:\u001b[0m\u001b[0;34m,\u001b[0m\u001b[0;34m:\u001b[0m\u001b[0;34m,\u001b[0m\u001b[0;34m:\u001b[0m\u001b[0;34m]\u001b[0m\u001b[0;34m.\u001b[0m\u001b[0mflatten\u001b[0m\u001b[0;34m(\u001b[0m\u001b[0;34m)\u001b[0m\u001b[0;34m\u001b[0m\u001b[0;34m\u001b[0m\u001b[0m\n",
      "\u001b[0;31mNameError\u001b[0m: name 'batch_size' is not defined"
     ]
    }
   ],
   "source": [
    "flat_data = np.zeros((batch_size+1, 3*128*128))\n",
    "for i in range(data.shape[0]):\n",
    "    #print(np.inf in data[i,:,:,:])\n",
    "    flat_data[i,:] = data[i,:,:,:].flatten()"
   ]
  },
  {
   "cell_type": "code",
   "execution_count": 17,
   "id": "53fde5af",
   "metadata": {},
   "outputs": [
    {
     "ename": "NameError",
     "evalue": "name 'flat_data' is not defined",
     "output_type": "error",
     "traceback": [
      "\u001b[0;31m---------------------------------------------------------------------------\u001b[0m",
      "\u001b[0;31mNameError\u001b[0m                                 Traceback (most recent call last)",
      "\u001b[0;32m/tmp/ipykernel_23279/3383143031.py\u001b[0m in \u001b[0;36m<module>\u001b[0;34m\u001b[0m\n\u001b[0;32m----> 1\u001b[0;31m \u001b[0mprint\u001b[0m\u001b[0;34m(\u001b[0m\u001b[0mflat_data\u001b[0m\u001b[0;34m.\u001b[0m\u001b[0mshape\u001b[0m\u001b[0;34m)\u001b[0m\u001b[0;34m\u001b[0m\u001b[0;34m\u001b[0m\u001b[0m\n\u001b[0m\u001b[1;32m      2\u001b[0m \u001b[0mprint\u001b[0m\u001b[0;34m(\u001b[0m\u001b[0mcsev_labels\u001b[0m\u001b[0;34m.\u001b[0m\u001b[0mshape\u001b[0m\u001b[0;34m)\u001b[0m\u001b[0;34m\u001b[0m\u001b[0;34m\u001b[0m\u001b[0m\n",
      "\u001b[0;31mNameError\u001b[0m: name 'flat_data' is not defined"
     ]
    }
   ],
   "source": [
    "print(flat_data.shape)\n",
    "print(csev_labels.shape)"
   ]
  },
  {
   "cell_type": "code",
   "execution_count": 10,
   "id": "de9ef018",
   "metadata": {},
   "outputs": [],
   "source": [
    "preproc = \"\""
   ]
  },
  {
   "cell_type": "code",
   "execution_count": 7,
   "id": "ed231aa6",
   "metadata": {},
   "outputs": [],
   "source": [
    "from sklearn.model_selection import train_test_split\n",
    "\n",
    "X_tmp, X_test, y_tmp, y_test = train_test_split(data, cov_labels, test_size=0.2, train_size=0.8, random_state=42, shuffle=True)\n",
    "X_train, X_val, y_train, y_val = train_test_split(X_tmp, y_tmp, test_size=0.25, train_size=0.75, random_state=42, shuffle=True)"
   ]
  },
  {
   "cell_type": "code",
   "execution_count": 8,
   "id": "16a0a6e2",
   "metadata": {},
   "outputs": [
    {
     "data": {
      "text/plain": [
       "(1176, 451, 540)"
      ]
     },
     "execution_count": 8,
     "metadata": {},
     "output_type": "execute_result"
    }
   ],
   "source": [
    "X_train.shape"
   ]
  },
  {
   "cell_type": "code",
   "execution_count": 11,
   "id": "7f8d327a",
   "metadata": {},
   "outputs": [],
   "source": [
    "savePickle(X_train, f\"{data_dir}{preproc}X_train.npy\")\n",
    "savePickle(X_test, f\"{data_dir}{preproc}X_test.npy\")\n",
    "savePickle(X_val, f\"{data_dir}{preproc}X_val.npy\")\n",
    "savePickle(y_train, f\"{data_dir}{preproc}y_train.npy\")\n",
    "savePickle(y_test, f\"{data_dir}{preproc}y_test.npy\")\n",
    "savePickle(y_val, f\"{data_dir}{preproc}y_val.npy\")"
   ]
  },
  {
   "cell_type": "code",
   "execution_count": 19,
   "id": "a4f166b0",
   "metadata": {},
   "outputs": [],
   "source": [
    "from sklearn.model_selection import train_test_split\n",
    "\n",
    "X_tmp, X_test, y_tmp, y_test = train_test_split(data, csev_labels, test_size=0.2, train_size=0.8, random_state=42, shuffle=True)\n",
    "X_train, X_val, y_train, y_val = train_test_split(X_tmp, y_tmp, test_size=0.25, train_size=0.75, random_state=42, shuffle=True)"
   ]
  },
  {
   "cell_type": "code",
   "execution_count": 20,
   "id": "276521fb",
   "metadata": {},
   "outputs": [],
   "source": [
    "savePickle(X_train, f\"{data_dir}{preproc}s-X_train.npy\")\n",
    "savePickle(X_test, f\"{data_dir}{preproc}s-X_test.npy\")\n",
    "savePickle(X_val, f\"{data_dir}{preproc}s-X_val.npy\")\n",
    "savePickle(y_train, f\"{data_dir}{preproc}s-y_train.npy\")\n",
    "savePickle(y_test, f\"{data_dir}{preproc}s-y_test.npy\")\n",
    "savePickle(y_val, f\"{data_dir}{preproc}s-y_val.npy\")"
   ]
  },
  {
   "cell_type": "code",
   "execution_count": 28,
   "id": "4ba7a0ca",
   "metadata": {},
   "outputs": [],
   "source": [
    "from sklearn.model_selection import train_test_split\n",
    "\n",
    "X_tmp, X_test, y_tmp, y_test = train_test_split(data, rsev_labels, test_size=0.2, train_size=0.8, random_state=42, shuffle=True)\n",
    "X_train, X_val, y_train, y_val = train_test_split(X_tmp, y_tmp, test_size=0.25, train_size=0.75, random_state=42, shuffle=True)"
   ]
  },
  {
   "cell_type": "code",
   "execution_count": 14,
   "id": "b790291e",
   "metadata": {},
   "outputs": [],
   "source": [
    "savePickle(X_train, f\"{data_dir}{preproc}rs-X_train.npy\")\n",
    "savePickle(X_test, f\"{data_dir}{preproc}rs-X_test.npy\")\n",
    "savePickle(X_val, f\"{data_dir}{preproc}rs-X_val.npy\")\n",
    "savePickle(y_train, f\"{data_dir}{preproc}rs-y_train.npy\")\n",
    "savePickle(y_test, f\"{data_dir}{preproc}rs-y_test.npy\")\n",
    "savePickle(y_val, f\"{data_dir}{preproc}rs-y_val.npy\")"
   ]
  },
  {
   "cell_type": "code",
   "execution_count": null,
   "id": "3cce5f1e",
   "metadata": {},
   "outputs": [],
   "source": []
  },
  {
   "cell_type": "code",
   "execution_count": 39,
   "id": "18869238",
   "metadata": {},
   "outputs": [
    {
     "data": {
      "text/plain": [
       "0.6025"
      ]
     },
     "execution_count": 39,
     "metadata": {},
     "output_type": "execute_result"
    }
   ],
   "source": [
    "np.mean(cov_labels)"
   ]
  },
  {
   "cell_type": "code",
   "execution_count": null,
   "id": "a2584a82",
   "metadata": {},
   "outputs": [],
   "source": []
  },
  {
   "cell_type": "code",
   "execution_count": null,
   "id": "5bcb49fe",
   "metadata": {},
   "outputs": [],
   "source": []
  },
  {
   "cell_type": "code",
   "execution_count": 29,
   "id": "e457c81d",
   "metadata": {},
   "outputs": [
    {
     "ename": "FileNotFoundError",
     "evalue": "[Errno 2] No such file or directory: '/media/hwixley/data-drive/mlp-coursework3/stoic-preprocess/../data/slices/gaussian-grabber/size160000-hw40-d100/s-X_train.npy'",
     "output_type": "error",
     "traceback": [
      "\u001b[0;31m---------------------------------------------------------------------------\u001b[0m",
      "\u001b[0;31mFileNotFoundError\u001b[0m                         Traceback (most recent call last)",
      "\u001b[0;32m/tmp/ipykernel_6308/1436008910.py\u001b[0m in \u001b[0;36m<module>\u001b[0;34m\u001b[0m\n\u001b[0;32m----> 1\u001b[0;31m \u001b[0mX_train\u001b[0m \u001b[0;34m=\u001b[0m \u001b[0mnp\u001b[0m\u001b[0;34m.\u001b[0m\u001b[0mload\u001b[0m\u001b[0;34m(\u001b[0m\u001b[0;34mf\"{data_dir}s-X_train.npy\"\u001b[0m\u001b[0;34m)\u001b[0m\u001b[0;34m\u001b[0m\u001b[0;34m\u001b[0m\u001b[0m\n\u001b[0m\u001b[1;32m      2\u001b[0m \u001b[0mX_val\u001b[0m \u001b[0;34m=\u001b[0m \u001b[0mnp\u001b[0m\u001b[0;34m.\u001b[0m\u001b[0mload\u001b[0m\u001b[0;34m(\u001b[0m\u001b[0;34mf\"{data_dir}s-X_val.npy\"\u001b[0m\u001b[0;34m)\u001b[0m\u001b[0;34m\u001b[0m\u001b[0;34m\u001b[0m\u001b[0m\n\u001b[1;32m      3\u001b[0m \u001b[0mX_test\u001b[0m \u001b[0;34m=\u001b[0m \u001b[0mnp\u001b[0m\u001b[0;34m.\u001b[0m\u001b[0mload\u001b[0m\u001b[0;34m(\u001b[0m\u001b[0;34mf\"{data_dir}s-X_test.npy\"\u001b[0m\u001b[0;34m)\u001b[0m\u001b[0;34m\u001b[0m\u001b[0;34m\u001b[0m\u001b[0m\n\u001b[1;32m      4\u001b[0m \u001b[0my_train\u001b[0m \u001b[0;34m=\u001b[0m \u001b[0mnp\u001b[0m\u001b[0;34m.\u001b[0m\u001b[0mload\u001b[0m\u001b[0;34m(\u001b[0m\u001b[0;34mf\"{data_dir}s-y_train.npy\"\u001b[0m\u001b[0;34m)\u001b[0m\u001b[0;34m\u001b[0m\u001b[0;34m\u001b[0m\u001b[0m\n\u001b[1;32m      5\u001b[0m \u001b[0my_val\u001b[0m \u001b[0;34m=\u001b[0m \u001b[0mnp\u001b[0m\u001b[0;34m.\u001b[0m\u001b[0mload\u001b[0m\u001b[0;34m(\u001b[0m\u001b[0;34mf\"{data_dir}s-y_val.npy\"\u001b[0m\u001b[0;34m)\u001b[0m\u001b[0;34m\u001b[0m\u001b[0;34m\u001b[0m\u001b[0m\n",
      "\u001b[0;32m~/miniconda3/envs/omnia/lib/python3.7/site-packages/numpy/lib/npyio.py\u001b[0m in \u001b[0;36mload\u001b[0;34m(file, mmap_mode, allow_pickle, fix_imports, encoding)\u001b[0m\n\u001b[1;32m    415\u001b[0m             \u001b[0mown_fid\u001b[0m \u001b[0;34m=\u001b[0m \u001b[0;32mFalse\u001b[0m\u001b[0;34m\u001b[0m\u001b[0;34m\u001b[0m\u001b[0m\n\u001b[1;32m    416\u001b[0m         \u001b[0;32melse\u001b[0m\u001b[0;34m:\u001b[0m\u001b[0;34m\u001b[0m\u001b[0;34m\u001b[0m\u001b[0m\n\u001b[0;32m--> 417\u001b[0;31m             \u001b[0mfid\u001b[0m \u001b[0;34m=\u001b[0m \u001b[0mstack\u001b[0m\u001b[0;34m.\u001b[0m\u001b[0menter_context\u001b[0m\u001b[0;34m(\u001b[0m\u001b[0mopen\u001b[0m\u001b[0;34m(\u001b[0m\u001b[0mos_fspath\u001b[0m\u001b[0;34m(\u001b[0m\u001b[0mfile\u001b[0m\u001b[0;34m)\u001b[0m\u001b[0;34m,\u001b[0m \u001b[0;34m\"rb\"\u001b[0m\u001b[0;34m)\u001b[0m\u001b[0;34m)\u001b[0m\u001b[0;34m\u001b[0m\u001b[0;34m\u001b[0m\u001b[0m\n\u001b[0m\u001b[1;32m    418\u001b[0m             \u001b[0mown_fid\u001b[0m \u001b[0;34m=\u001b[0m \u001b[0;32mTrue\u001b[0m\u001b[0;34m\u001b[0m\u001b[0;34m\u001b[0m\u001b[0m\n\u001b[1;32m    419\u001b[0m \u001b[0;34m\u001b[0m\u001b[0m\n",
      "\u001b[0;31mFileNotFoundError\u001b[0m: [Errno 2] No such file or directory: '/media/hwixley/data-drive/mlp-coursework3/stoic-preprocess/../data/slices/gaussian-grabber/size160000-hw40-d100/s-X_train.npy'"
     ]
    }
   ],
   "source": [
    "X_train = np.load(f\"{data_dir}s-X_train.npy\")\n",
    "X_val = np.load(f\"{data_dir}s-X_val.npy\")\n",
    "X_test = np.load(f\"{data_dir}s-X_test.npy\")\n",
    "y_train = np.load(f\"{data_dir}s-y_train.npy\")\n",
    "y_val = np.load(f\"{data_dir}s-y_val.npy\")\n",
    "y_test = np.load(f\"{data_dir}s-y_test.npy\")\n"
   ]
  },
  {
   "cell_type": "code",
   "execution_count": 113,
   "id": "7f87b2e1",
   "metadata": {},
   "outputs": [
    {
     "data": {
      "text/plain": [
       "(600, 132651)"
      ]
     },
     "execution_count": 113,
     "metadata": {},
     "output_type": "execute_result"
    }
   ],
   "source": [
    "X_train.shape"
   ]
  },
  {
   "cell_type": "code",
   "execution_count": null,
   "id": "f56a9a84",
   "metadata": {},
   "outputs": [],
   "source": []
  },
  {
   "cell_type": "code",
   "execution_count": null,
   "id": "2f29fc94",
   "metadata": {},
   "outputs": [],
   "source": []
  },
  {
   "cell_type": "code",
   "execution_count": null,
   "id": "a07105ec",
   "metadata": {},
   "outputs": [],
   "source": []
  },
  {
   "cell_type": "code",
   "execution_count": null,
   "id": "480095d5",
   "metadata": {},
   "outputs": [],
   "source": []
  },
  {
   "cell_type": "code",
   "execution_count": null,
   "id": "920d6f88",
   "metadata": {},
   "outputs": [],
   "source": []
  },
  {
   "cell_type": "code",
   "execution_count": 265,
   "id": "a721c4fe",
   "metadata": {},
   "outputs": [],
   "source": [
    "from sklearn.model_selection import train_test_split\n",
    "\n",
    "Xr_tmp, Xr_test, yr_tmp, yr_test = train_test_split(data, rlabels, test_size=0.2, train_size=0.8, random_state=42, shuffle=True)\n",
    "Xr_train, Xr_val, yr_train, yr_val = train_test_split(Xr_tmp, yr_tmp, test_size=0.25, train_size=0.75, random_state=42, shuffle=True)"
   ]
  },
  {
   "cell_type": "code",
   "execution_count": 263,
   "id": "c9ff4eef",
   "metadata": {},
   "outputs": [],
   "source": [
    "dlabels = np.zeros(ns*len(files))\n",
    "rlabels = np.zeros(ns*len(files))\n",
    "\n",
    "for i in range(len(files)):\n",
    "    img = np.load(DIR + \"npy-images/\" + str(int(labels[i,0])) + \".npy\")\n",
    "    idx = int(img.shape[0]/2)\n",
    "    data[i*ns,:] = img[idx,:,:].flatten()\n",
    "    #data[i*ns+1,:] = img[idx+1,:,:].flatten()\n",
    "    #data[i*ns-1,:] = img[idx-1,:,:].flatten()\n",
    "    #data[i*ns-2,:] = img[idx-2,:,:].flatten()\n",
    "    dlabels[i*ns] = int(csev_labels[i])\n",
    "    rlabels[i*ns] = int(rsev_labels[i])\n",
    "    #dlabels[i*ns+1] = l\n",
    "    #dlabels[i*ns-1] = l\n",
    "    #dlabels[i*ns-2] = l"
   ]
  },
  {
   "cell_type": "code",
   "execution_count": 14,
   "id": "c3e7c0c0",
   "metadata": {},
   "outputs": [],
   "source": [
    "from sklearn import svm\n",
    "from sklearn.naive_bayes import GaussianNB\n",
    "from sklearn.metrics import confusion_matrix\n",
    "from sklearn.naive_bayes import BernoulliNB\n",
    "from sklearn.tree import DecisionTreeClassifier\n",
    "from sklearn.neighbors import KNeighborsClassifier\n",
    "from sklearn.metrics import accuracy_score, mean_squared_error"
   ]
  },
  {
   "cell_type": "code",
   "execution_count": 15,
   "id": "91296a00",
   "metadata": {},
   "outputs": [
    {
     "name": "stdout",
     "output_type": "stream",
     "text": [
      "[[ 49  54   9]\n",
      " [111 133  44]\n",
      " [  0   0   0]]\n",
      "0.455\n",
      "0.6125\n",
      "[[ 73  46  13]\n",
      " [ 87 131  50]\n",
      " [  0   0   0]]\n",
      "0.51\n",
      "0.5875\n"
     ]
    }
   ],
   "source": [
    "mod = svm.SVC()\n",
    "mod.fit(X_train, y_train)\n",
    "preds = mod.predict(X_val)\n",
    "print(confusion_matrix(preds, y_val))\n",
    "print(accuracy_score(preds, y_val))\n",
    "print(mean_squared_error(preds, y_val))\n",
    "preds = mod.predict(X_test)\n",
    "print(confusion_matrix(preds, y_test))\n",
    "print(accuracy_score(preds, y_test))\n",
    "print(mean_squared_error(preds, y_test))"
   ]
  },
  {
   "cell_type": "code",
   "execution_count": 174,
   "id": "ec1fc70f",
   "metadata": {},
   "outputs": [
    {
     "name": "stdout",
     "output_type": "stream",
     "text": [
      "[[273  33]\n",
      " [ 74  20]]\n",
      "0.7325\n",
      "0.2675\n",
      "[[274  46]\n",
      " [ 63  17]]\n",
      "0.7275\n",
      "0.2725\n"
     ]
    }
   ],
   "source": [
    "mod = GaussianNB()\n",
    "mod.fit(X_train, y_train)\n",
    "preds = mod.predict(X_val)\n",
    "print(confusion_matrix(preds, y_val))\n",
    "print(accuracy_score(preds, y_val))\n",
    "print(mean_squared_error(preds, y_val))\n",
    "preds = mod.predict(X_test)\n",
    "print(confusion_matrix(preds, y_test))\n",
    "print(accuracy_score(preds, y_test))\n",
    "print(mean_squared_error(preds, y_test))"
   ]
  },
  {
   "cell_type": "code",
   "execution_count": 176,
   "id": "a7b47491",
   "metadata": {},
   "outputs": [
    {
     "name": "stdout",
     "output_type": "stream",
     "text": [
      "[[248  40]\n",
      " [ 99  13]]\n",
      "0.6525\n",
      "0.3475\n",
      "[[261  44]\n",
      " [ 76  19]]\n",
      "0.7\n",
      "0.3\n"
     ]
    }
   ],
   "source": [
    "mod = BernoulliNB()\n",
    "mod.fit(X_train, y_train)\n",
    "preds = mod.predict(X_val)\n",
    "print(confusion_matrix(preds, y_val))\n",
    "print(accuracy_score(preds, y_val))\n",
    "print(mean_squared_error(preds, y_val))\n",
    "preds = mod.predict(X_test)\n",
    "print(confusion_matrix(preds, y_test))\n",
    "print(accuracy_score(preds, y_test))\n",
    "print(mean_squared_error(preds, y_test))"
   ]
  },
  {
   "cell_type": "code",
   "execution_count": 164,
   "id": "b1ae2c42",
   "metadata": {},
   "outputs": [
    {
     "name": "stdout",
     "output_type": "stream",
     "text": [
      "[[141  27]\n",
      " [ 26   6]]\n",
      "0.735\n",
      "0.265\n",
      "[[148  20]\n",
      " [ 29   4]]\n",
      "0.7562189054726368\n",
      "0.24378109452736318\n"
     ]
    }
   ],
   "source": [
    "mod = DecisionTreeClassifier()\n",
    "mod.fit(X_train, y_train)\n",
    "preds = mod.predict(X_val)\n",
    "print(confusion_matrix(preds, y_val))\n",
    "print(accuracy_score(preds, y_val))\n",
    "print(mean_squared_error(preds, y_val))\n",
    "preds = mod.predict(X_test)\n",
    "print(confusion_matrix(preds, y_test))\n",
    "print(accuracy_score(preds, y_test))\n",
    "print(mean_squared_error(preds, y_test))"
   ]
  },
  {
   "cell_type": "code",
   "execution_count": 175,
   "id": "460307c3",
   "metadata": {},
   "outputs": [
    {
     "name": "stdout",
     "output_type": "stream",
     "text": [
      "[[338  53]\n",
      " [  9   0]]\n",
      "0.845\n",
      "0.155\n",
      "[[326  62]\n",
      " [ 11   1]]\n",
      "0.8175\n",
      "0.1825\n"
     ]
    }
   ],
   "source": [
    "mod = KNeighborsClassifier()\n",
    "mod.fit(X_train, y_train)\n",
    "preds = mod.predict(X_val)\n",
    "print(confusion_matrix(preds, y_val))\n",
    "print(accuracy_score(preds, y_val))\n",
    "print(mean_squared_error(preds, y_val))\n",
    "preds = mod.predict(X_test)\n",
    "print(confusion_matrix(preds, y_test))\n",
    "print(accuracy_score(preds, y_test))\n",
    "print(mean_squared_error(preds, y_test))"
   ]
  },
  {
   "cell_type": "code",
   "execution_count": null,
   "id": "12a3d3e1",
   "metadata": {},
   "outputs": [],
   "source": []
  },
  {
   "cell_type": "code",
   "execution_count": 288,
   "id": "86cb4b1b",
   "metadata": {},
   "outputs": [],
   "source": [
    "from sklearn.linear_model import LinearRegression"
   ]
  },
  {
   "cell_type": "code",
   "execution_count": 289,
   "id": "2a2e2858",
   "metadata": {},
   "outputs": [
    {
     "name": "stdout",
     "output_type": "stream",
     "text": [
      "[[1 0 1]\n",
      " [6 8 0]\n",
      " [0 0 0]]\n",
      "0.5625\n",
      "0.625\n",
      "[[3 0 1]\n",
      " [5 5 2]\n",
      " [0 0 0]]\n",
      "0.5\n",
      "0.6875\n"
     ]
    }
   ],
   "source": [
    "mod = svm.SVR()\n",
    "mod.fit(Xr_train, yr_train)\n",
    "preds = [(2 if p >= 1.5 else 1) if p >= 0.5 else 0 for p in mod.predict(Xr_val)]\n",
    "print(confusion_matrix(preds, yr_val))\n",
    "print(accuracy_score(preds, yr_val))\n",
    "print(mean_squared_error(preds, yr_val))\n",
    "preds = [(2 if p >= 1.5 else 1) if p >= 0.5 else 0 for p in mod.predict(Xr_test)]\n",
    "print(confusion_matrix(preds, yr_test))\n",
    "print(accuracy_score(preds, yr_test))\n",
    "print(mean_squared_error(preds, yr_test))"
   ]
  },
  {
   "cell_type": "code",
   "execution_count": 290,
   "id": "4c9e5bae",
   "metadata": {},
   "outputs": [
    {
     "name": "stdout",
     "output_type": "stream",
     "text": [
      "[[3 0 1]\n",
      " [4 8 0]\n",
      " [0 0 0]]\n",
      "0.6875\n",
      "0.5\n",
      "[[3 0 1]\n",
      " [5 5 2]\n",
      " [0 0 0]]\n",
      "0.5\n",
      "0.6875\n"
     ]
    }
   ],
   "source": [
    "mod = LinearRegression()\n",
    "mod.fit(Xr_train, yr_train)\n",
    "preds = [(2 if p >= 1.5 else 1) if p >= 0.5 else 0 for p in mod.predict(Xr_val)]\n",
    "print(confusion_matrix(preds, yr_val))\n",
    "print(accuracy_score(preds, yr_val))\n",
    "print(mean_squared_error(preds, yr_val))\n",
    "preds = [(2 if p >= 1.5 else 1) if p >= 0.5 else 0 for p in mod.predict(Xr_test)]\n",
    "print(confusion_matrix(preds, yr_test))\n",
    "print(accuracy_score(preds, yr_test))\n",
    "print(mean_squared_error(preds, yr_test))"
   ]
  },
  {
   "cell_type": "code",
   "execution_count": null,
   "id": "ebf2ac47",
   "metadata": {},
   "outputs": [],
   "source": []
  },
  {
   "cell_type": "code",
   "execution_count": 297,
   "id": "13e1d2b9",
   "metadata": {},
   "outputs": [
    {
     "data": {
      "image/png": "[encoded data removed]",
      "text/plain": [
       "<Figure size 432x288 with 1 Axes>"
      ]
     },
     "metadata": {
      "needs_background": "light"
     },
     "output_type": "display_data"
    }
   ],
   "source": [
    "import numpy as np\n",
    "from matplotlib import pyplot as plt\n",
    "\n",
    "labels = ['SVM', 'GNB', 'BNB', 'DTC', 'KNN', 'SVR', 'LR']\n",
    "val_acc = [93.75, 87.5, 93.75, 62.5, 87.5, 56.25, 68.75]\n",
    "test_acc = [81.25, 75, 81.25, 56.25, 75, 50, 68.75]\n",
    "width = 0.35       # the width of the bars: can also be len(x) sequence\n",
    "\n",
    "fig, ax = plt.subplots()\n",
    "\n",
    "x = np.arange(len(labels))  # the label locations\n",
    "ax.bar(x - width/2, val_acc, width, label='Val. Acc.')\n",
    "ax.bar(x + width/2, test_acc, width, label='Test Acc.')\n",
    "ax.set_xticks(x)\n",
    "ax.set_xticklabels(labels)\n",
    "ax.set_xlabel('Model')\n",
    "ax.set_ylabel('Classification Accuracy (%)')\n",
    "ax.set_title('Performance on STOIC dataset by model')\n",
    "ax.legend(loc='upper right', frameon=False)\n",
    "plt.savefig('STOIC.pdf')\n",
    "\n",
    "plt.show()"
   ]
  },
  {
   "cell_type": "code",
   "execution_count": null,
   "id": "6f1d4909",
   "metadata": {},
   "outputs": [],
   "source": [
    "import numpy as np\n",
    "from matplotlib import pyplot as plt\n",
    "\n",
    "labels = ['SVM', 'GNB', 'BNB', 'DTC', 'KNN', 'SVR', 'LR']\n",
    "val_acc = [67.7, 67.7, 87.1, 74.2, 64.5, 57.5, 74.2]\n",
    "test_acc = [68.8, 75, 90.6, 81, 50, 62.8, 75]\n",
    "width = 0.35       # the width of the bars: can also be len(x) sequence\n",
    "\n",
    "fig, ax = plt.subplots()\n",
    "\n",
    "x = np.arange(len(labels))  # the label locations\n",
    "\n",
    "ax.bar(x - width/2, val_acc, width, label='Validation MSE')\n",
    "ax.bar(x + width/2, test_acc, width, label='Test MSE')\n",
    "ax.set_xticks(x)\n",
    "ax.set_xticklabels(labels)\n",
    "ax.set_xlabel('Model')\n",
    "ax.set_ylabel('MSE')\n",
    "ax.set_title('Performance on STOIC dataset by model')\n",
    "ax.legend(loc='upper right', frameon=False)\n",
    "plt.savefig('STOIC.pdf')\n",
    "\n",
    "plt.show()"
   ]
  },
  {
   "cell_type": "code",
   "execution_count": null,
   "id": "d50b9490",
   "metadata": {},
   "outputs": [],
   "source": []
  },
  {
   "cell_type": "code",
   "execution_count": null,
   "id": "5cbb210f",
   "metadata": {},
   "outputs": [],
   "source": [
    "np.arange(0,512)"
   ]
  }
 ],
 "metadata": {
  "kernelspec": {
   "display_name": "Python 3 (ipykernel)",
   "language": "python",
   "name": "python3"
  },
  "language_info": {
   "codemirror_mode": {
    "name": "ipython",
    "version": 3
   },
   "file_extension": ".py",
   "mimetype": "text/x-python",
   "name": "python",
   "nbconvert_exporter": "python",
   "pygments_lexer": "ipython3",
   "version": "3.7.11"
  }
 },
 "nbformat": 4,
 "nbformat_minor": 5
}
